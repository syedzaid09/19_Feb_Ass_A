{
 "cells": [
  {
   "cell_type": "code",
   "execution_count": 1,
   "id": "16a67b97-4acb-48a2-9ca0-d16ff4c6157e",
   "metadata": {},
   "outputs": [],
   "source": [
    "# Qus 1"
   ]
  },
  {
   "cell_type": "raw",
   "id": "25bf55da-06d4-4208-886b-a34b38e8200b",
   "metadata": {},
   "source": [
    "Flask is a micro web framework for python, designed to be lightweight , modular , and easy to use.\n",
    "It was developed by Armin Ronacher and first released in 2010. Flask is widely used for developing web applications due to its simplicity and flexibility.\n",
    "\n",
    "Advantages:\n",
    "    1. Simplicity:Flask is straightforward and easy to get started with .it has simple and intuitive API that requires less boilerplate code compared to other web frameworks.\n",
    "    2. Flexibility:Flask is highly flexible and allows developers to choose the tools and libraries they want to use , rather than enforcing a particular way of doing things.\n",
    "    3. Minimalistic:Flask follows a minimalist philosophy, focusingon core functionality and providing extensions for additional features.\n",
    "    4. Modular:Flask is designed with a modular architecture , meaning it is composed of several components that work together but can also be used independently.\n",
    "    5. Jinja2 Templating : Flask uses the Jinja2 templating engine by default, which provides powerfu; and flexible template inheitance and syntax.\n",
    "    6. Acitve Community and Ecosystem: Flask has a large and active community of developers contributing plugins,extensions , and integrations .\n",
    "    7. Good Documentation:Flask has well-maintained and extensive documentation , which is crucial for new developers to quickly grasp the framework's concepts and stsrt building applications.\n",
    "    8. Testing Support:Flask comes with built-in support for unit testing and includes a test client for simulating HTTP requests during testing.\n",
    "    "
   ]
  },
  {
   "cell_type": "code",
   "execution_count": 4,
   "id": "5d1b4e38-4c38-46c8-8120-f674bf9a1173",
   "metadata": {},
   "outputs": [],
   "source": [
    "# Qus 2"
   ]
  },
  {
   "cell_type": "code",
   "execution_count": null,
   "id": "9aff7290-e192-4ecb-998d-d618693f3ff9",
   "metadata": {},
   "outputs": [
    {
     "name": "stdout",
     "output_type": "stream",
     "text": [
      " * Serving Flask app '__main__'\n",
      " * Debug mode: off\n"
     ]
    },
    {
     "name": "stderr",
     "output_type": "stream",
     "text": [
      "WARNING: This is a development server. Do not use it in a production deployment. Use a production WSGI server instead.\n",
      " * Running on all addresses (0.0.0.0)\n",
      " * Running on http://127.0.0.1:5000\n",
      " * Running on http://172.18.0.27:5000\n",
      "Press CTRL+C to quit\n",
      "172.18.0.2 - - [24/Apr/2024 06:50:57] \"GET / HTTP/1.1\" 200 -\n",
      "172.18.0.2 - - [24/Apr/2024 06:50:58] \"GET /favicon.ico HTTP/1.1\" 404 -\n"
     ]
    }
   ],
   "source": [
    "from flask import Flask\n",
    "from flask import request\n",
    "app = Flask(__name__)\n",
    "\n",
    "\n",
    "@app.route(\"/\")\n",
    "def hello_world():\n",
    "    return \"<h1>Hello, World!</h1>\"\n",
    "\n",
    "@app.route(\"/hello_world1\")\n",
    "def hello_world1():\n",
    "    return \"<h1>Hello, World!1</h1>\"\n",
    "\n",
    "@app.route(\"/hello_world2\")\n",
    "def hello_world2():\n",
    "    return \"<h1>Hello, World!2</h1>\"\n",
    "\n",
    "@app.route(\"/test\")\n",
    "def test():\n",
    "    a=5+6\n",
    "    return \"this is my functio to run app {}\".format(a)\n",
    "\n",
    "@app.route(\"/test2/test2\")\n",
    "def test2():\n",
    "    data=request.args.get(\"x\")\n",
    "    return \"this is a data input from my url {}\".format(data)\n",
    "\n",
    "if __name__==\"__main__\":\n",
    "    app.run(host=\"0.0.0.0\")"
   ]
  },
  {
   "cell_type": "code",
   "execution_count": null,
   "id": "964b51c3-85de-46e1-ab3d-0cd5cfc45872",
   "metadata": {},
   "outputs": [],
   "source": [
    "https://yellow-judge-xrzte.pwskills.app:5000\n"
   ]
  },
  {
   "cell_type": "code",
   "execution_count": 8,
   "id": "de49aead-d19a-4b10-bd90-6465de5ba514",
   "metadata": {},
   "outputs": [],
   "source": [
    "from flask import Flask"
   ]
  },
  {
   "cell_type": "code",
   "execution_count": 7,
   "id": "b125d22b-5c46-46ba-9886-c2141aaf213c",
   "metadata": {},
   "outputs": [
    {
     "name": "stderr",
     "output_type": "stream",
     "text": [
      "2122.13s - pydevd: Sending message related to process being replaced timed-out after 5 seconds\n"
     ]
    },
    {
     "name": "stdout",
     "output_type": "stream",
     "text": [
      "Collecting flask\n",
      "  Downloading flask-3.0.3-py3-none-any.whl (101 kB)\n",
      "\u001b[2K     \u001b[90m━━━━━━━━━━━━━━━━━━━━━━━━━━━━━━━━━━━━━━━\u001b[0m \u001b[32m101.7/101.7 kB\u001b[0m \u001b[31m4.2 MB/s\u001b[0m eta \u001b[36m0:00:00\u001b[0m\n",
      "\u001b[?25hRequirement already satisfied: Jinja2>=3.1.2 in /opt/conda/lib/python3.10/site-packages (from flask) (3.1.2)\n",
      "Collecting Werkzeug>=3.0.0\n",
      "  Downloading werkzeug-3.0.2-py3-none-any.whl (226 kB)\n",
      "\u001b[2K     \u001b[90m━━━━━━━━━━━━━━━━━━━━━━━━━━━━━━━━━━━━━━\u001b[0m \u001b[32m226.8/226.8 kB\u001b[0m \u001b[31m21.3 MB/s\u001b[0m eta \u001b[36m0:00:00\u001b[0m\n",
      "\u001b[?25hCollecting itsdangerous>=2.1.2\n",
      "  Downloading itsdangerous-2.2.0-py3-none-any.whl (16 kB)\n",
      "Collecting blinker>=1.6.2\n",
      "  Downloading blinker-1.7.0-py3-none-any.whl (13 kB)\n",
      "Requirement already satisfied: click>=8.1.3 in /opt/conda/lib/python3.10/site-packages (from flask) (8.1.3)\n",
      "Requirement already satisfied: MarkupSafe>=2.0 in /opt/conda/lib/python3.10/site-packages (from Jinja2>=3.1.2->flask) (2.1.1)\n",
      "Installing collected packages: Werkzeug, itsdangerous, blinker, flask\n",
      "  Attempting uninstall: blinker\n",
      "    Found existing installation: blinker 1.5\n",
      "    Uninstalling blinker-1.5:\n",
      "      Successfully uninstalled blinker-1.5\n",
      "Successfully installed Werkzeug-3.0.2 blinker-1.7.0 flask-3.0.3 itsdangerous-2.2.0\n"
     ]
    }
   ],
   "source": [
    "!pip install flask"
   ]
  },
  {
   "cell_type": "code",
   "execution_count": 2,
   "id": "f182d196-1c5d-41cb-a118-6a605a183cea",
   "metadata": {},
   "outputs": [],
   "source": [
    "# Qus 3"
   ]
  },
  {
   "cell_type": "raw",
   "id": "cb954a9d-f711-45bc-9f3b-dca463242dfb",
   "metadata": {},
   "source": [
    "app routing refers to the process of mapping URLs(or routes) to specific python functions. This mapping is defined using decorators (\"@app.route()\") in the Flask application.\n",
    "When a user visits a specific URL in the web browser, Flask uses these routes  to detewrmine which python functionshould handle the incoming request.\n",
    "\n",
    "Use App Routes:\n",
    "1. URL Mapping:\n",
    "App routes allow us to define the structure of our web application by mapping specific URLs to corresponding functions.\n",
    "\n",
    "2. Request Handling:\n",
    "Each app route defines how Flask should handle incoming HHTP requests. When a user vists a specific URL , Flask invokes the corresponding function , which generates an HTTP response to be sent back to the client .\n",
    "\n",
    "3. RESTful APIs:for builiding RESTful APIs, app routesare essential for defining endpoints like \"/api/users\",\"/apo/products\",etc., each of which corresponds to specific operations\n",
    "\n",
    "4.Code Modularity:\n",
    "Usinf app routes encourages a modular code structure. Different routes can be defined in seprate functions or even separate modules , making the application easier to maintain and extend.\n",
    "\n",
    "5.URL Buliding:Flask provides utilities ('url_for()') to generate URLs dynamically based on app routes."
   ]
  },
  {
   "cell_type": "raw",
   "id": "00dd745e-937f-41b1-9cfc-7328fff1db18",
   "metadata": {},
   "source": [
    "# Qus 4"
   ]
  },
  {
   "cell_type": "code",
   "execution_count": null,
   "id": "40526d71-3018-4b32-bfe1-2e976945dce9",
   "metadata": {},
   "outputs": [
    {
     "name": "stdout",
     "output_type": "stream",
     "text": [
      " * Serving Flask app '__main__'\n",
      " * Debug mode: off\n"
     ]
    },
    {
     "name": "stderr",
     "output_type": "stream",
     "text": [
      "WARNING: This is a development server. Do not use it in a production deployment. Use a production WSGI server instead.\n",
      " * Running on all addresses (0.0.0.0)\n",
      " * Running on http://127.0.0.1:5000\n",
      " * Running on http://172.18.0.27:5000\n",
      "Press CTRL+C to quit\n"
     ]
    }
   ],
   "source": [
    "from flask import Flask\n",
    "\n",
    "app = Flask(__name__)\n",
    "\n",
    "@app.route('/welcome')\n",
    "def welcome():\n",
    "    return 'Welcome to ABC Corporation'\n",
    "\n",
    "@app.route('/')\n",
    "def company_info():\n",
    "    info = \"\"\"\n",
    "    Company Name: ABC Corporation\n",
    "    Location: India\n",
    "    Contact Detail: 999-999-9999\n",
    "    \"\"\"\n",
    "    return info\n",
    "\n",
    "if __name__ == '__main__':\n",
    "    app.run(host=\"0.0.0.0\")\n"
   ]
  },
  {
   "cell_type": "code",
   "execution_count": null,
   "id": "78ef6955-0cc8-4866-8c1b-b744fa391535",
   "metadata": {},
   "outputs": [],
   "source": [
    "# Qus 5"
   ]
  },
  {
   "cell_type": "code",
   "execution_count": null,
   "id": "a751ad99-3738-44e2-bb9e-e35270c0c377",
   "metadata": {},
   "outputs": [],
   "source": [
    "The url_for() function is used for URL building . It generates a URL to a specific endpoint based on its name . this function is paricularly useful because it allows you to avoid hard - coding URLs in your templates or views, making your Flask application more maintainable and flexible.\n",
    "\n",
    "the 'url_for()' function takes the endpoint name (a string) as its first argument and can accept additional keyword arguments correspomnding to variables in the URL rule.\n"
   ]
  }
 ],
 "metadata": {
  "kernelspec": {
   "display_name": "Python 3 (ipykernel)",
   "language": "python",
   "name": "python3"
  },
  "language_info": {
   "codemirror_mode": {
    "name": "ipython",
    "version": 3
   },
   "file_extension": ".py",
   "mimetype": "text/x-python",
   "name": "python",
   "nbconvert_exporter": "python",
   "pygments_lexer": "ipython3",
   "version": "3.10.8"
  }
 },
 "nbformat": 4,
 "nbformat_minor": 5
}
